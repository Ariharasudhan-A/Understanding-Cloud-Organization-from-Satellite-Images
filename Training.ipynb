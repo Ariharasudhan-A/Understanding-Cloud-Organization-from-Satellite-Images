{
 "cells": [
  {
   "cell_type": "code",
   "execution_count": 11,
   "id": "ff6cb8f5",
   "metadata": {
    "execution": {
     "iopub.execute_input": "2025-01-30T17:57:51.473636Z",
     "iopub.status.busy": "2025-01-30T17:57:51.473310Z",
     "iopub.status.idle": "2025-01-30T17:57:55.001967Z",
     "shell.execute_reply": "2025-01-30T17:57:55.001243Z"
    },
    "papermill": {
     "duration": 3.674313,
     "end_time": "2025-01-30T17:57:55.003507",
     "exception": false,
     "start_time": "2025-01-30T17:57:51.329194",
     "status": "completed"
    },
    "tags": []
   },
   "outputs": [],
   "source": [
    "import torch\n",
    "import os\n",
    "import numpy as np\n",
    "import pandas as pd\n",
    "import shutil\n",
    "\n",
    "BASE_DIR = r\"D:\\understanding_cloud_organization\"\n",
    "torch.cuda.empty_cache()"
   ]
  },
  {
   "cell_type": "code",
   "execution_count": 12,
   "id": "f6d1996d",
   "metadata": {
    "execution": {
     "iopub.execute_input": "2025-01-30T17:57:55.206508Z",
     "iopub.status.busy": "2025-01-30T17:57:55.206031Z",
     "iopub.status.idle": "2025-01-30T17:57:56.589759Z",
     "shell.execute_reply": "2025-01-30T17:57:56.588862Z"
    },
    "papermill": {
     "duration": 1.487512,
     "end_time": "2025-01-30T17:57:56.591522",
     "exception": false,
     "start_time": "2025-01-30T17:57:55.104010",
     "status": "completed"
    },
    "tags": []
   },
   "outputs": [
    {
     "name": "stderr",
     "output_type": "stream",
     "text": [
      "/usr/local/lib/python3.10/dist-packages/albumentations/__init__.py:24: UserWarning: A new version of Albumentations is available: 2.0.2 (you have 1.4.20). Upgrade using: pip install -U albumentations. To disable automatic update checks, set the environment variable NO_ALBUMENTATIONS_UPDATE to 1.\n",
      "  check_for_updates()\n"
     ]
    }
   ],
   "source": [
    "import albumentations as A\n",
    "from albumentations.pytorch import ToTensorV2\n",
    "import cv2\n",
    "import torch\n",
    "\n",
    "# Multi-class augmentation\n",
    "train_transform = A.Compose([\n",
    "    A.Resize(height=256, width=256),\n",
    "    A.HorizontalFlip(p=0.5),\n",
    "    A.VerticalFlip(p=0.5),\n",
    "    A.RandomRotate90(p=0.5),\n",
    "    A.Affine(translate_percent=(0.1, 0.1), scale=(0.9, 1.1), rotate=(-20, 20), p=0.5),  # Corrected Affine\n",
    "    A.ElasticTransform(p=0.2, alpha=1, sigma=50),  # Removed alpha_affine\n",
    "    A.Normalize(mean=(0.5, 0.5, 0.5), std=(0.5, 0.5, 0.5)),  # Adjusted for 3 channels\n",
    "    ToTensorV2()\n",
    "])\n",
    "\n",
    "val_transform = A.Compose([\n",
    "    A.Resize(height=256, width=256),\n",
    "    A.Normalize(mean=(0.5, 0.5, 0.5), std=(0.5, 0.5, 0.5)),  # Adjusted for 3 channels\n",
    "    ToTensorV2()\n",
    "])\n",
    "\n",
    "def load_image_mask(image_path, mask_path, transform):\n",
    "    image = cv2.imread(image_path)\n",
    "    image = cv2.cvtColor(image, cv2.COLOR_BGR2RGB)\n",
    "\n",
    "    mask = cv2.imread(mask_path, cv2.IMREAD_GRAYSCALE)  # Load multi-class mask\n",
    "    mask = torch.tensor(mask, dtype=torch.long)  # Convert to tensor\n",
    "    height, width = 256, 256  # Or any other fixed size\n",
    "    image = cv2.resize(image, (width, height))\n",
    "    mask = cv2.resize(mask.numpy(), (width, height), interpolation=cv2.INTER_NEAREST)\n",
    "\n",
    "    augmented = transform(image=image, mask=mask)  # Apply augmentation\n",
    "    return augmented[\"image\"], augmented[\"mask\"]"
   ]
  },
  {
   "cell_type": "code",
   "execution_count": 13,
   "id": "b791ae84",
   "metadata": {
    "execution": {
     "iopub.execute_input": "2025-01-30T17:57:56.820883Z",
     "iopub.status.busy": "2025-01-30T17:57:56.820462Z",
     "iopub.status.idle": "2025-01-30T17:57:56.836351Z",
     "shell.execute_reply": "2025-01-30T17:57:56.834688Z"
    },
    "papermill": {
     "duration": 0.124379,
     "end_time": "2025-01-30T17:57:56.839310",
     "exception": false,
     "start_time": "2025-01-30T17:57:56.714931",
     "status": "completed"
    },
    "tags": []
   },
   "outputs": [
    {
     "name": "stdout",
     "output_type": "stream",
     "text": [
      "Multi-class DataLoaders are ready!\n"
     ]
    }
   ],
   "source": [
    "import torch\n",
    "import os\n",
    "from torch.utils.data import Dataset, DataLoader\n",
    "\n",
    "class CloudDataset(Dataset):\n",
    "    def __init__(self, image_dir, mask_dir, transform=None):\n",
    "        self.image_dir = image_dir\n",
    "        self.mask_dir = mask_dir\n",
    "        self.image_list = os.listdir(image_dir)\n",
    "        self.transform = transform\n",
    "\n",
    "    def __len__(self):\n",
    "        return len(self.image_list)\n",
    "\n",
    "    def __getitem__(self, idx):\n",
    "        img_name = self.image_list[idx]\n",
    "        img_path = os.path.join(self.image_dir, img_name)\n",
    "        mask_path = os.path.join(self.mask_dir, img_name.replace(\".jpg\", \".png\"))\n",
    "        if not os.path.exists(mask_path):\n",
    "            raise ValueError(f\"Mask file not found: {mask_path}\")\n",
    "\n",
    "        image, mask = load_image_mask(img_path, mask_path, self.transform)\n",
    "        return image, mask\n",
    "\n",
    "# Create datasets\n",
    "train_dataset = CloudDataset(\n",
    "    image_dir=os.path.join(BASE_DIR, \"train\", \"images\"),\n",
    "    mask_dir=os.path.join(BASE_DIR, \"train\", \"masks\"),\n",
    "    transform=train_transform\n",
    ")\n",
    "\n",
    "val_dataset = CloudDataset(\n",
    "    image_dir=os.path.join(BASE_DIR, \"val\", \"images\"),\n",
    "    mask_dir=os.path.join(BASE_DIR, \"val\", \"masks\"),\n",
    "    transform=val_transform\n",
    ")\n",
    "\n",
    "test_dataset = CloudDataset(\n",
    "    image_dir=os.path.join(BASE_DIR, \"test\", \"images\"),\n",
    "    mask_dir=os.path.join(BASE_DIR, \"test\", \"masks\"),\n",
    "    transform=val_transform\n",
    ")\n",
    "\n",
    "# Create dataloaders\n",
    "train_loader = DataLoader(train_dataset, batch_size=128, shuffle=True,  pin_memory=True)\n",
    "val_loader = DataLoader(val_dataset, batch_size=128, shuffle=False, pin_memory=True)\n",
    "test_loader = DataLoader(test_dataset, batch_size=128, shuffle=False, pin_memory=True)\n",
    "\n",
    "print(\"Multi-class DataLoaders are ready!\")\n"
   ]
  },
  {
   "cell_type": "code",
   "execution_count": 14,
   "id": "7e72f3c2",
   "metadata": {
    "execution": {
     "iopub.execute_input": "2025-01-30T17:57:57.053939Z",
     "iopub.status.busy": "2025-01-30T17:57:57.053622Z",
     "iopub.status.idle": "2025-01-30T17:58:02.711911Z",
     "shell.execute_reply": "2025-01-30T17:58:02.710933Z"
    },
    "papermill": {
     "duration": 5.761993,
     "end_time": "2025-01-30T17:58:02.713177",
     "exception": false,
     "start_time": "2025-01-30T17:57:56.951184",
     "status": "completed"
    },
    "tags": []
   },
   "outputs": [
    {
     "name": "stderr",
     "output_type": "stream",
     "text": [
      "Downloading: \"https://download.pytorch.org/models/resnet34-b627a593.pth\" to /root/.cache/torch/hub/checkpoints/resnet34-b627a593.pth\n",
      "100%|██████████| 83.3M/83.3M [00:00<00:00, 203MB/s]\n"
     ]
    },
    {
     "name": "stdout",
     "output_type": "stream",
     "text": [
      "Multi-class model ready!\n"
     ]
    }
   ],
   "source": [
    "import torch.nn as nn\n",
    "import torch.nn.functional as F\n",
    "import torchvision.models as models\n",
    "\n",
    "class UNet(nn.Module):\n",
    "    def __init__(self, in_channels=3, out_channels=5):  # 5 classes (background + 4 cloud types)\n",
    "        super(UNet, self).__init__()\n",
    "\n",
    "        self.encoder = models.resnet34(weights=\"IMAGENET1K_V1\")\n",
    "        self.encoder = nn.Sequential(*list(self.encoder.children())[:-2])  # Remove FC layer\n",
    "\n",
    "        self.conv_up = nn.Conv2d(512, 256, kernel_size=3, padding=1)\n",
    "        self.upsample = nn.Upsample(scale_factor=2, mode='bilinear', align_corners=True)\n",
    "        self.final_conv = nn.Conv2d(256, out_channels, kernel_size=1)  # 5 output channels\n",
    "\n",
    "    def forward(self, x):\n",
    "        x = self.encoder(x)\n",
    "        x = self.upsample(F.relu(self.conv_up(x)))\n",
    "        x = self.final_conv(x)\n",
    "        return x  # No sigmoid for multi-class segmentation\n",
    "\n",
    "# Initialize model\n",
    "device = torch.device(\"cuda\" if torch.cuda.is_available() else \"cpu\")\n",
    "model = UNet().to(device)\n",
    "print(\"Multi-class model ready!\")"
   ]
  },
  {
   "cell_type": "code",
   "execution_count": 15,
   "id": "1212c82b",
   "metadata": {
    "execution": {
     "iopub.execute_input": "2025-01-30T17:58:02.919051Z",
     "iopub.status.busy": "2025-01-30T17:58:02.918596Z",
     "iopub.status.idle": "2025-01-30T19:45:57.767214Z",
     "shell.execute_reply": "2025-01-30T19:45:57.766430Z"
    },
    "papermill": {
     "duration": 6474.953097,
     "end_time": "2025-01-30T19:45:57.768589",
     "exception": false,
     "start_time": "2025-01-30T17:58:02.815492",
     "status": "completed"
    },
    "tags": []
   },
   "outputs": [
    {
     "name": "stderr",
     "output_type": "stream",
     "text": [
      "Epoch 1/32 [Training]: 100%|██████████| 35/35 [03:04<00:00,  5.27s/it, loss=0.896]\n",
      "Epoch 1/32 [Validation]: 100%|██████████| 5/5 [00:21<00:00,  4.25s/it, loss=0.993]\n"
     ]
    },
    {
     "name": "stdout",
     "output_type": "stream",
     "text": [
      "\n",
      "Epoch [1/32] completed in 205.60 sec\n",
      "  ➤ Train Loss: 1.0303\n",
      "  ➤ Val Loss: 0.9813\n",
      "  ➤ Val Accuracy: 60.04%\n",
      "  ➤ Val Dice Score: 0.4953\n",
      "  ➤ epochs_without_improvement: 0\n",
      "  ➤ Learning Rate: 0.0001\n"
     ]
    },
    {
     "name": "stderr",
     "output_type": "stream",
     "text": [
      "Epoch 2/32 [Training]: 100%|██████████| 35/35 [03:04<00:00,  5.26s/it, loss=0.879]\n",
      "Epoch 2/32 [Validation]: 100%|██████████| 5/5 [00:21<00:00,  4.24s/it, loss=0.979]\n"
     ]
    },
    {
     "name": "stdout",
     "output_type": "stream",
     "text": [
      "\n",
      "Epoch [2/32] completed in 205.37 sec\n",
      "  ➤ Train Loss: 0.8548\n",
      "  ➤ Val Loss: 0.9727\n",
      "  ➤ Val Accuracy: 60.49%\n",
      "  ➤ Val Dice Score: 0.5290\n",
      "  ➤ epochs_without_improvement: 0\n",
      "  ➤ Learning Rate: 0.0001\n"
     ]
    },
    {
     "name": "stderr",
     "output_type": "stream",
     "text": [
      "Epoch 3/32 [Training]: 100%|██████████| 35/35 [03:02<00:00,  5.20s/it, loss=0.807]\n",
      "Epoch 3/32 [Validation]: 100%|██████████| 5/5 [00:21<00:00,  4.25s/it, loss=0.901]\n"
     ]
    },
    {
     "name": "stdout",
     "output_type": "stream",
     "text": [
      "\n",
      "Epoch [3/32] completed in 203.39 sec\n",
      "  ➤ Train Loss: 0.8285\n",
      "  ➤ Val Loss: 0.9012\n",
      "  ➤ Val Accuracy: 63.82%\n",
      "  ➤ Val Dice Score: 0.5427\n",
      "  ➤ epochs_without_improvement: 0\n",
      "  ➤ Learning Rate: 0.0001\n"
     ]
    },
    {
     "name": "stderr",
     "output_type": "stream",
     "text": [
      "Epoch 4/32 [Training]: 100%|██████████| 35/35 [03:01<00:00,  5.19s/it, loss=0.829]\n",
      "Epoch 4/32 [Validation]: 100%|██████████| 5/5 [00:21<00:00,  4.24s/it, loss=0.885]\n"
     ]
    },
    {
     "name": "stdout",
     "output_type": "stream",
     "text": [
      "\n",
      "Epoch [4/32] completed in 202.70 sec\n",
      "  ➤ Train Loss: 0.8088\n",
      "  ➤ Val Loss: 0.8973\n",
      "  ➤ Val Accuracy: 63.59%\n",
      "  ➤ Val Dice Score: 0.5395\n",
      "  ➤ epochs_without_improvement: 0\n",
      "  ➤ Learning Rate: 0.0001\n"
     ]
    },
    {
     "name": "stderr",
     "output_type": "stream",
     "text": [
      "Epoch 5/32 [Training]: 100%|██████████| 35/35 [03:02<00:00,  5.22s/it, loss=0.803]\n",
      "Epoch 5/32 [Validation]: 100%|██████████| 5/5 [00:20<00:00,  4.19s/it, loss=0.902]\n"
     ]
    },
    {
     "name": "stdout",
     "output_type": "stream",
     "text": [
      "\n",
      "Epoch [5/32] completed in 203.47 sec\n",
      "  ➤ Train Loss: 0.7973\n",
      "  ➤ Val Loss: 0.8864\n",
      "  ➤ Val Accuracy: 64.66%\n",
      "  ➤ Val Dice Score: 0.5391\n",
      "  ➤ epochs_without_improvement: 0\n",
      "  ➤ Learning Rate: 0.0001\n"
     ]
    },
    {
     "name": "stderr",
     "output_type": "stream",
     "text": [
      "Epoch 6/32 [Training]: 100%|██████████| 35/35 [02:59<00:00,  5.14s/it, loss=0.865]\n",
      "Epoch 6/32 [Validation]: 100%|██████████| 5/5 [00:20<00:00,  4.18s/it, loss=0.921]\n"
     ]
    },
    {
     "name": "stdout",
     "output_type": "stream",
     "text": [
      "\n",
      "Epoch [6/32] completed in 200.89 sec\n",
      "  ➤ Train Loss: 0.7885\n",
      "  ➤ Val Loss: 0.9181\n",
      "  ➤ Val Accuracy: 63.33%\n",
      "  ➤ Val Dice Score: 0.5495\n",
      "  ➤ epochs_without_improvement: 1\n",
      "  ➤ Learning Rate: 0.0001\n"
     ]
    },
    {
     "name": "stderr",
     "output_type": "stream",
     "text": [
      "Epoch 7/32 [Training]: 100%|██████████| 35/35 [03:01<00:00,  5.19s/it, loss=0.732]\n",
      "Epoch 7/32 [Validation]: 100%|██████████| 5/5 [00:21<00:00,  4.25s/it, loss=0.951]\n"
     ]
    },
    {
     "name": "stdout",
     "output_type": "stream",
     "text": [
      "\n",
      "Epoch [7/32] completed in 202.93 sec\n",
      "  ➤ Train Loss: 0.7767\n",
      "  ➤ Val Loss: 0.9431\n",
      "  ➤ Val Accuracy: 62.87%\n",
      "  ➤ Val Dice Score: 0.5296\n",
      "  ➤ epochs_without_improvement: 2\n",
      "  ➤ Learning Rate: 0.0001\n"
     ]
    },
    {
     "name": "stderr",
     "output_type": "stream",
     "text": [
      "Epoch 8/32 [Training]: 100%|██████████| 35/35 [03:02<00:00,  5.21s/it, loss=0.811]\n",
      "Epoch 8/32 [Validation]: 100%|██████████| 5/5 [00:21<00:00,  4.23s/it, loss=0.889]\n"
     ]
    },
    {
     "name": "stdout",
     "output_type": "stream",
     "text": [
      "\n",
      "Epoch [8/32] completed in 203.54 sec\n",
      "  ➤ Train Loss: 0.7714\n",
      "  ➤ Val Loss: 0.8937\n",
      "  ➤ Val Accuracy: 64.07%\n",
      "  ➤ Val Dice Score: 0.5528\n",
      "  ➤ epochs_without_improvement: 3\n",
      "  ➤ Learning Rate: 1e-05\n"
     ]
    },
    {
     "name": "stderr",
     "output_type": "stream",
     "text": [
      "Epoch 9/32 [Training]: 100%|██████████| 35/35 [03:01<00:00,  5.19s/it, loss=0.764]\n",
      "Epoch 9/32 [Validation]: 100%|██████████| 5/5 [00:20<00:00,  4.17s/it, loss=0.893]\n"
     ]
    },
    {
     "name": "stdout",
     "output_type": "stream",
     "text": [
      "\n",
      "Epoch [9/32] completed in 202.55 sec\n",
      "  ➤ Train Loss: 0.7446\n",
      "  ➤ Val Loss: 0.8756\n",
      "  ➤ Val Accuracy: 65.08%\n",
      "  ➤ Val Dice Score: 0.5602\n",
      "  ➤ epochs_without_improvement: 0\n",
      "  ➤ Learning Rate: 1e-05\n"
     ]
    },
    {
     "name": "stderr",
     "output_type": "stream",
     "text": [
      "Epoch 10/32 [Training]: 100%|██████████| 35/35 [03:00<00:00,  5.16s/it, loss=0.728]\n",
      "Epoch 10/32 [Validation]: 100%|██████████| 5/5 [00:21<00:00,  4.26s/it, loss=0.894]\n"
     ]
    },
    {
     "name": "stdout",
     "output_type": "stream",
     "text": [
      "\n",
      "Epoch [10/32] completed in 201.99 sec\n",
      "  ➤ Train Loss: 0.7353\n",
      "  ➤ Val Loss: 0.8755\n",
      "  ➤ Val Accuracy: 65.18%\n",
      "  ➤ Val Dice Score: 0.5638\n",
      "  ➤ epochs_without_improvement: 0\n",
      "  ➤ Learning Rate: 1e-05\n"
     ]
    },
    {
     "name": "stderr",
     "output_type": "stream",
     "text": [
      "Epoch 11/32 [Training]: 100%|██████████| 35/35 [03:01<00:00,  5.18s/it, loss=0.718]\n",
      "Epoch 11/32 [Validation]: 100%|██████████| 5/5 [00:21<00:00,  4.21s/it, loss=0.893]\n"
     ]
    },
    {
     "name": "stdout",
     "output_type": "stream",
     "text": [
      "\n",
      "Epoch [11/32] completed in 202.46 sec\n",
      "  ➤ Train Loss: 0.7348\n",
      "  ➤ Val Loss: 0.8809\n",
      "  ➤ Val Accuracy: 65.02%\n",
      "  ➤ Val Dice Score: 0.5599\n",
      "  ➤ epochs_without_improvement: 1\n",
      "  ➤ Learning Rate: 1e-05\n"
     ]
    },
    {
     "name": "stderr",
     "output_type": "stream",
     "text": [
      "Epoch 12/32 [Training]: 100%|██████████| 35/35 [03:00<00:00,  5.16s/it, loss=0.715]\n",
      "Epoch 12/32 [Validation]: 100%|██████████| 5/5 [00:20<00:00,  4.19s/it, loss=0.893]\n"
     ]
    },
    {
     "name": "stdout",
     "output_type": "stream",
     "text": [
      "\n",
      "Epoch [12/32] completed in 201.70 sec\n",
      "  ➤ Train Loss: 0.7294\n",
      "  ➤ Val Loss: 0.8804\n",
      "  ➤ Val Accuracy: 64.99%\n",
      "  ➤ Val Dice Score: 0.5643\n",
      "  ➤ epochs_without_improvement: 2\n",
      "  ➤ Learning Rate: 1.0000000000000002e-06\n"
     ]
    },
    {
     "name": "stderr",
     "output_type": "stream",
     "text": [
      "Epoch 13/32 [Training]: 100%|██████████| 35/35 [03:02<00:00,  5.21s/it, loss=0.737]\n",
      "Epoch 13/32 [Validation]: 100%|██████████| 5/5 [00:21<00:00,  4.30s/it, loss=0.896]\n"
     ]
    },
    {
     "name": "stdout",
     "output_type": "stream",
     "text": [
      "\n",
      "Epoch [13/32] completed in 203.91 sec\n",
      "  ➤ Train Loss: 0.7286\n",
      "  ➤ Val Loss: 0.8805\n",
      "  ➤ Val Accuracy: 65.05%\n",
      "  ➤ Val Dice Score: 0.5642\n",
      "  ➤ epochs_without_improvement: 3\n",
      "  ➤ Learning Rate: 1.0000000000000002e-06\n"
     ]
    },
    {
     "name": "stderr",
     "output_type": "stream",
     "text": [
      "Epoch 14/32 [Training]: 100%|██████████| 35/35 [03:01<00:00,  5.20s/it, loss=0.746]\n",
      "Epoch 14/32 [Validation]: 100%|██████████| 5/5 [00:20<00:00,  4.19s/it, loss=0.894]\n"
     ]
    },
    {
     "name": "stdout",
     "output_type": "stream",
     "text": [
      "\n",
      "Epoch [14/32] completed in 202.82 sec\n",
      "  ➤ Train Loss: 0.7238\n",
      "  ➤ Val Loss: 0.8800\n",
      "  ➤ Val Accuracy: 65.06%\n",
      "  ➤ Val Dice Score: 0.5634\n",
      "  ➤ epochs_without_improvement: 4\n",
      "  ➤ Learning Rate: 1.0000000000000002e-06\n"
     ]
    },
    {
     "name": "stderr",
     "output_type": "stream",
     "text": [
      "Epoch 15/32 [Training]: 100%|██████████| 35/35 [03:02<00:00,  5.20s/it, loss=0.741]\n",
      "Epoch 15/32 [Validation]: 100%|██████████| 5/5 [00:21<00:00,  4.21s/it, loss=0.896]\n"
     ]
    },
    {
     "name": "stdout",
     "output_type": "stream",
     "text": [
      "\n",
      "Epoch [15/32] completed in 203.18 sec\n",
      "  ➤ Train Loss: 0.7261\n",
      "  ➤ Val Loss: 0.8804\n",
      "  ➤ Val Accuracy: 65.10%\n",
      "  ➤ Val Dice Score: 0.5637\n",
      "  ➤ epochs_without_improvement: 5\n",
      "  ➤ Learning Rate: 1.0000000000000002e-07\n"
     ]
    },
    {
     "name": "stderr",
     "output_type": "stream",
     "text": [
      "Epoch 16/32 [Training]: 100%|██████████| 35/35 [03:01<00:00,  5.20s/it, loss=0.741]\n",
      "Epoch 16/32 [Validation]: 100%|██████████| 5/5 [00:21<00:00,  4.25s/it, loss=0.895]\n"
     ]
    },
    {
     "name": "stdout",
     "output_type": "stream",
     "text": [
      "\n",
      "Epoch [16/32] completed in 203.10 sec\n",
      "  ➤ Train Loss: 0.7233\n",
      "  ➤ Val Loss: 0.8803\n",
      "  ➤ Val Accuracy: 65.09%\n",
      "  ➤ Val Dice Score: 0.5625\n",
      "  ➤ epochs_without_improvement: 6\n",
      "  ➤ Learning Rate: 1.0000000000000002e-07\n"
     ]
    },
    {
     "name": "stderr",
     "output_type": "stream",
     "text": [
      "Epoch 17/32 [Training]: 100%|██████████| 35/35 [03:02<00:00,  5.21s/it, loss=0.679]\n",
      "Epoch 17/32 [Validation]: 100%|██████████| 5/5 [00:20<00:00,  4.18s/it, loss=0.895]\n"
     ]
    },
    {
     "name": "stdout",
     "output_type": "stream",
     "text": [
      "\n",
      "Epoch [17/32] completed in 203.33 sec\n",
      "  ➤ Train Loss: 0.7258\n",
      "  ➤ Val Loss: 0.8802\n",
      "  ➤ Val Accuracy: 65.05%\n",
      "  ➤ Val Dice Score: 0.5634\n",
      "  ➤ epochs_without_improvement: 7\n",
      "  ➤ Learning Rate: 1.0000000000000002e-07\n"
     ]
    },
    {
     "name": "stderr",
     "output_type": "stream",
     "text": [
      "Epoch 18/32 [Training]: 100%|██████████| 35/35 [03:02<00:00,  5.21s/it, loss=0.74]\n",
      "Epoch 18/32 [Validation]: 100%|██████████| 5/5 [00:21<00:00,  4.27s/it, loss=0.894]\n"
     ]
    },
    {
     "name": "stdout",
     "output_type": "stream",
     "text": [
      "\n",
      "Epoch [18/32] completed in 203.68 sec\n",
      "  ➤ Train Loss: 0.7235\n",
      "  ➤ Val Loss: 0.8801\n",
      "  ➤ Val Accuracy: 65.08%\n",
      "  ➤ Val Dice Score: 0.5628\n",
      "  ➤ epochs_without_improvement: 8\n",
      "  ➤ Learning Rate: 1.0000000000000004e-08\n"
     ]
    },
    {
     "name": "stderr",
     "output_type": "stream",
     "text": [
      "Epoch 19/32 [Training]: 100%|██████████| 35/35 [02:59<00:00,  5.14s/it, loss=0.712]\n",
      "Epoch 19/32 [Validation]: 100%|██████████| 5/5 [00:20<00:00,  4.14s/it, loss=0.895]\n"
     ]
    },
    {
     "name": "stdout",
     "output_type": "stream",
     "text": [
      "\n",
      "Epoch [19/32] completed in 200.72 sec\n",
      "  ➤ Train Loss: 0.7239\n",
      "  ➤ Val Loss: 0.8799\n",
      "  ➤ Val Accuracy: 65.08%\n",
      "  ➤ Val Dice Score: 0.5636\n",
      "  ➤ epochs_without_improvement: 9\n",
      "  ➤ Learning Rate: 1.0000000000000004e-08\n"
     ]
    },
    {
     "name": "stderr",
     "output_type": "stream",
     "text": [
      "Epoch 20/32 [Training]: 100%|██████████| 35/35 [03:00<00:00,  5.16s/it, loss=0.757]\n",
      "Epoch 20/32 [Validation]: 100%|██████████| 5/5 [00:20<00:00,  4.12s/it, loss=0.893]\n"
     ]
    },
    {
     "name": "stdout",
     "output_type": "stream",
     "text": [
      "\n",
      "Epoch [20/32] completed in 201.30 sec\n",
      "  ➤ Train Loss: 0.7206\n",
      "  ➤ Val Loss: 0.8800\n",
      "  ➤ Val Accuracy: 65.06%\n",
      "  ➤ Val Dice Score: 0.5630\n",
      "  ➤ epochs_without_improvement: 10\n",
      "  ➤ Learning Rate: 1.0000000000000004e-08\n"
     ]
    },
    {
     "name": "stderr",
     "output_type": "stream",
     "text": [
      "Epoch 21/32 [Training]: 100%|██████████| 35/35 [03:01<00:00,  5.18s/it, loss=0.731]\n",
      "Epoch 21/32 [Validation]: 100%|██████████| 5/5 [00:21<00:00,  4.24s/it, loss=0.894]\n"
     ]
    },
    {
     "name": "stdout",
     "output_type": "stream",
     "text": [
      "\n",
      "Epoch [21/32] completed in 202.46 sec\n",
      "  ➤ Train Loss: 0.7247\n",
      "  ➤ Val Loss: 0.8798\n",
      "  ➤ Val Accuracy: 65.09%\n",
      "  ➤ Val Dice Score: 0.5633\n",
      "  ➤ epochs_without_improvement: 11\n",
      "  ➤ Learning Rate: 1.0000000000000004e-08\n"
     ]
    },
    {
     "name": "stderr",
     "output_type": "stream",
     "text": [
      "Epoch 22/32 [Training]: 100%|██████████| 35/35 [03:01<00:00,  5.18s/it, loss=0.731]\n",
      "Epoch 22/32 [Validation]: 100%|██████████| 5/5 [00:21<00:00,  4.21s/it, loss=0.895]\n"
     ]
    },
    {
     "name": "stdout",
     "output_type": "stream",
     "text": [
      "\n",
      "Epoch [22/32] completed in 202.37 sec\n",
      "  ➤ Train Loss: 0.7265\n",
      "  ➤ Val Loss: 0.8806\n",
      "  ➤ Val Accuracy: 65.04%\n",
      "  ➤ Val Dice Score: 0.5644\n",
      "  ➤ epochs_without_improvement: 12\n",
      "  ➤ Learning Rate: 1.0000000000000004e-08\n"
     ]
    },
    {
     "name": "stderr",
     "output_type": "stream",
     "text": [
      "Epoch 23/32 [Training]: 100%|██████████| 35/35 [03:00<00:00,  5.16s/it, loss=0.747]\n",
      "Epoch 23/32 [Validation]: 100%|██████████| 5/5 [00:20<00:00,  4.13s/it, loss=0.892]\n"
     ]
    },
    {
     "name": "stdout",
     "output_type": "stream",
     "text": [
      "\n",
      "Epoch [23/32] completed in 201.23 sec\n",
      "  ➤ Train Loss: 0.7229\n",
      "  ➤ Val Loss: 0.8796\n",
      "  ➤ Val Accuracy: 65.06%\n",
      "  ➤ Val Dice Score: 0.5633\n",
      "  ➤ epochs_without_improvement: 13\n",
      "  ➤ Learning Rate: 1.0000000000000004e-08\n"
     ]
    },
    {
     "name": "stderr",
     "output_type": "stream",
     "text": [
      "Epoch 24/32 [Training]: 100%|██████████| 35/35 [02:59<00:00,  5.14s/it, loss=0.753]\n",
      "Epoch 24/32 [Validation]: 100%|██████████| 5/5 [00:20<00:00,  4.16s/it, loss=0.895]\n"
     ]
    },
    {
     "name": "stdout",
     "output_type": "stream",
     "text": [
      "\n",
      "Epoch [24/32] completed in 200.69 sec\n",
      "  ➤ Train Loss: 0.7228\n",
      "  ➤ Val Loss: 0.8802\n",
      "  ➤ Val Accuracy: 65.07%\n",
      "  ➤ Val Dice Score: 0.5636\n",
      "  ➤ epochs_without_improvement: 14\n",
      "  ➤ Learning Rate: 1.0000000000000004e-08\n"
     ]
    },
    {
     "name": "stderr",
     "output_type": "stream",
     "text": [
      "Epoch 25/32 [Training]: 100%|██████████| 35/35 [03:00<00:00,  5.15s/it, loss=0.745]\n",
      "Epoch 25/32 [Validation]: 100%|██████████| 5/5 [00:20<00:00,  4.20s/it, loss=0.893]\n"
     ]
    },
    {
     "name": "stdout",
     "output_type": "stream",
     "text": [
      "\n",
      "Epoch [25/32] completed in 201.24 sec\n",
      "  ➤ Train Loss: 0.7229\n",
      "  ➤ Val Loss: 0.8797\n",
      "  ➤ Val Accuracy: 65.08%\n",
      "  ➤ Val Dice Score: 0.5628\n",
      "  ➤ epochs_without_improvement: 15\n",
      "  ➤ Learning Rate: 1.0000000000000004e-08\n"
     ]
    },
    {
     "name": "stderr",
     "output_type": "stream",
     "text": [
      "Epoch 26/32 [Training]: 100%|██████████| 35/35 [03:02<00:00,  5.20s/it, loss=0.703]\n",
      "Epoch 26/32 [Validation]: 100%|██████████| 5/5 [00:21<00:00,  4.22s/it, loss=0.892]\n"
     ]
    },
    {
     "name": "stdout",
     "output_type": "stream",
     "text": [
      "\n",
      "Epoch [26/32] completed in 203.27 sec\n",
      "  ➤ Train Loss: 0.7230\n",
      "  ➤ Val Loss: 0.8790\n",
      "  ➤ Val Accuracy: 65.11%\n",
      "  ➤ Val Dice Score: 0.5621\n",
      "  ➤ epochs_without_improvement: 16\n",
      "  ➤ Learning Rate: 1.0000000000000004e-08\n"
     ]
    },
    {
     "name": "stderr",
     "output_type": "stream",
     "text": [
      "Epoch 27/32 [Training]: 100%|██████████| 35/35 [03:01<00:00,  5.18s/it, loss=0.676]\n",
      "Epoch 27/32 [Validation]: 100%|██████████| 5/5 [00:20<00:00,  4.17s/it, loss=0.894]\n"
     ]
    },
    {
     "name": "stdout",
     "output_type": "stream",
     "text": [
      "\n",
      "Epoch [27/32] completed in 201.99 sec\n",
      "  ➤ Train Loss: 0.7230\n",
      "  ➤ Val Loss: 0.8801\n",
      "  ➤ Val Accuracy: 65.07%\n",
      "  ➤ Val Dice Score: 0.5637\n",
      "  ➤ epochs_without_improvement: 17\n",
      "  ➤ Learning Rate: 1.0000000000000004e-08\n"
     ]
    },
    {
     "name": "stderr",
     "output_type": "stream",
     "text": [
      "Epoch 28/32 [Training]: 100%|██████████| 35/35 [02:59<00:00,  5.13s/it, loss=0.726]\n",
      "Epoch 28/32 [Validation]: 100%|██████████| 5/5 [00:20<00:00,  4.17s/it, loss=0.895]\n"
     ]
    },
    {
     "name": "stdout",
     "output_type": "stream",
     "text": [
      "\n",
      "Epoch [28/32] completed in 200.27 sec\n",
      "  ➤ Train Loss: 0.7268\n",
      "  ➤ Val Loss: 0.8803\n",
      "  ➤ Val Accuracy: 65.12%\n",
      "  ➤ Val Dice Score: 0.5633\n",
      "  ➤ epochs_without_improvement: 18\n",
      "  ➤ Learning Rate: 1.0000000000000004e-08\n"
     ]
    },
    {
     "name": "stderr",
     "output_type": "stream",
     "text": [
      "Epoch 29/32 [Training]: 100%|██████████| 35/35 [02:59<00:00,  5.12s/it, loss=0.763]\n",
      "Epoch 29/32 [Validation]: 100%|██████████| 5/5 [00:20<00:00,  4.09s/it, loss=0.892]\n"
     ]
    },
    {
     "name": "stdout",
     "output_type": "stream",
     "text": [
      "\n",
      "Epoch [29/32] completed in 199.60 sec\n",
      "  ➤ Train Loss: 0.7231\n",
      "  ➤ Val Loss: 0.8795\n",
      "  ➤ Val Accuracy: 65.06%\n",
      "  ➤ Val Dice Score: 0.5638\n",
      "  ➤ epochs_without_improvement: 19\n",
      "  ➤ Learning Rate: 1.0000000000000004e-08\n"
     ]
    },
    {
     "name": "stderr",
     "output_type": "stream",
     "text": [
      "Epoch 30/32 [Training]: 100%|██████████| 35/35 [02:58<00:00,  5.11s/it, loss=0.711]\n",
      "Epoch 30/32 [Validation]: 100%|██████████| 5/5 [00:20<00:00,  4.15s/it, loss=0.892]\n"
     ]
    },
    {
     "name": "stdout",
     "output_type": "stream",
     "text": [
      "\n",
      "Epoch [30/32] completed in 199.52 sec\n",
      "  ➤ Train Loss: 0.7256\n",
      "  ➤ Val Loss: 0.8797\n",
      "  ➤ Val Accuracy: 65.08%\n",
      "  ➤ Val Dice Score: 0.5633\n",
      "  ➤ epochs_without_improvement: 20\n",
      "  ➤ Learning Rate: 1.0000000000000004e-08\n"
     ]
    },
    {
     "name": "stderr",
     "output_type": "stream",
     "text": [
      "Epoch 31/32 [Training]: 100%|██████████| 35/35 [02:59<00:00,  5.13s/it, loss=0.761]\n",
      "Epoch 31/32 [Validation]: 100%|██████████| 5/5 [00:20<00:00,  4.18s/it, loss=0.894]\n"
     ]
    },
    {
     "name": "stdout",
     "output_type": "stream",
     "text": [
      "\n",
      "Epoch [31/32] completed in 200.55 sec\n",
      "  ➤ Train Loss: 0.7229\n",
      "  ➤ Val Loss: 0.8801\n",
      "  ➤ Val Accuracy: 65.03%\n",
      "  ➤ Val Dice Score: 0.5638\n",
      "  ➤ epochs_without_improvement: 21\n",
      "  ➤ Learning Rate: 1.0000000000000004e-08\n"
     ]
    },
    {
     "name": "stderr",
     "output_type": "stream",
     "text": [
      "Epoch 32/32 [Training]: 100%|██████████| 35/35 [03:00<00:00,  5.17s/it, loss=0.683]\n",
      "Epoch 32/32 [Validation]: 100%|██████████| 5/5 [00:20<00:00,  4.13s/it, loss=0.895]"
     ]
    },
    {
     "name": "stdout",
     "output_type": "stream",
     "text": [
      "\n",
      "Epoch [32/32] completed in 201.57 sec\n",
      "  ➤ Train Loss: 0.7235\n",
      "  ➤ Val Loss: 0.8804\n",
      "  ➤ Val Accuracy: 65.09%\n",
      "  ➤ Val Dice Score: 0.5638\n",
      "  ➤ epochs_without_improvement: 22\n",
      "  ➤ Learning Rate: 1.0000000000000004e-08\n"
     ]
    },
    {
     "name": "stderr",
     "output_type": "stream",
     "text": [
      "\n"
     ]
    }
   ],
   "source": [
    "import torch\n",
    "import torch.nn as nn\n",
    "import torch.optim as optim\n",
    "import torch.nn.functional as F\n",
    "from tqdm import tqdm\n",
    "import time\n",
    "from torch.amp import GradScaler\n",
    "from torch.amp import autocast \n",
    "\n",
    "# Define Dice Coefficient function\n",
    "def dice_coefficient(preds, labels, num_classes=5, smooth=1e-6):\n",
    "    dice = 0.0\n",
    "    for c in range(num_classes):\n",
    "        # Binarize the masks\n",
    "        pred_c = (preds == c).float()\n",
    "        label_c = (labels == c).float()\n",
    "\n",
    "        intersection = (pred_c * label_c).sum()\n",
    "        union = pred_c.sum() + label_c.sum()\n",
    "\n",
    "        dice += (2. * intersection + smooth) / (union + smooth)\n",
    "\n",
    "    return dice / num_classes  # Average over classes\n",
    "\n",
    "# Loss function & optimizer (unchanged)\n",
    "criterion = nn.CrossEntropyLoss()\n",
    "optimizer = optim.Adam(model.parameters(), lr=1e-4, weight_decay=1e-5)\n",
    "scheduler = torch.optim.lr_scheduler.ReduceLROnPlateau(optimizer, mode='min', factor=0.1, patience=2)\n",
    "scaler = GradScaler()\n",
    "\n",
    "# Train model with Dice Coefficient metric\n",
    "def train_model(model, train_loader, val_loader, epochs):\n",
    "    model.to(device)  # Move model to the appropriate device\n",
    "    best_val_loss = float('inf')\n",
    "    patience = 5\n",
    "    epochs_without_improvement = 0\n",
    "\n",
    "    for epoch in range(epochs):\n",
    "        model.train()\n",
    "        epoch_start_time = time.time()\n",
    "        running_train_loss = 0.0\n",
    "\n",
    "        # Training Loop\n",
    "        progress_bar = tqdm(train_loader, desc=f\"Epoch {epoch+1}/{epochs} [Training]\", leave=True)\n",
    "        for images, masks in progress_bar:\n",
    "            images, masks = images.to(device), masks.to(device).long()\n",
    "\n",
    "            optimizer.zero_grad()\n",
    "\n",
    "            # Mixed precision training\n",
    "            with torch.amp.autocast(device_type='cuda', dtype=torch.float16):\n",
    "                outputs = model(images)\n",
    "                outputs_resized = F.interpolate(outputs, size=(256, 256), mode='bilinear', align_corners=False)\n",
    "                loss = criterion(outputs_resized, masks)\n",
    "\n",
    "            scaler.scale(loss).backward()\n",
    "            scaler.step(optimizer)\n",
    "            scaler.update()\n",
    "\n",
    "            running_train_loss += loss.item()\n",
    "            progress_bar.set_postfix(loss=loss.item())\n",
    "\n",
    "        avg_train_loss = running_train_loss / len(train_loader)\n",
    "        \n",
    "        # Validation Loop\n",
    "        model.eval()\n",
    "        running_val_loss = 0.0\n",
    "        correct, total = 0, 0\n",
    "        running_dice = 0.0\n",
    "\n",
    "        with torch.no_grad():\n",
    "            progress_bar_val = tqdm(val_loader, desc=f\"Epoch {epoch+1}/{epochs} [Validation]\", leave=True)\n",
    "            for images, masks in progress_bar_val:\n",
    "                images, masks = images.to(device), masks.to(device).long()\n",
    "\n",
    "                outputs = model(images)\n",
    "                outputs_resized = F.interpolate(outputs, size=(256, 256), mode='bilinear', align_corners=False)\n",
    "                loss = criterion(outputs_resized, masks)\n",
    "\n",
    "                running_val_loss += loss.item()\n",
    "\n",
    "                # Compute accuracy\n",
    "                preds = torch.argmax(outputs_resized, dim=1)\n",
    "                correct += (preds == masks).sum().item()\n",
    "                total += masks.numel()\n",
    "\n",
    "                # Compute Dice Coefficient\n",
    "                dice = dice_coefficient(preds, masks, num_classes=5)\n",
    "                running_dice += dice\n",
    "\n",
    "                progress_bar_val.set_postfix(loss=loss.item())\n",
    "\n",
    "        avg_val_loss = running_val_loss / len(val_loader)\n",
    "        val_accuracy = correct / total * 100\n",
    "        avg_dice_score = running_dice / len(val_loader)  # Average Dice score over the validation set\n",
    "\n",
    "        # Update learning rate scheduler\n",
    "        scheduler.step(avg_val_loss)\n",
    "\n",
    "        epoch_time = time.time() - epoch_start_time\n",
    "\n",
    "        # Early stopping check\n",
    "        if avg_val_loss < best_val_loss:\n",
    "            best_val_loss = avg_val_loss\n",
    "            torch.save(model.state_dict(), 'best_model.pth')\n",
    "            epochs_without_improvement = 0\n",
    "        else:\n",
    "            epochs_without_improvement += 1\n",
    "            \n",
    "        print(f\"\\nEpoch [{epoch+1}/{epochs}] completed in {epoch_time:.2f} sec\")\n",
    "        print(f\"  ➤ Train Loss: {avg_train_loss:.4f}\")\n",
    "        print(f\"  ➤ Val Loss: {avg_val_loss:.4f}\")\n",
    "        print(f\"  ➤ Val Accuracy: {val_accuracy:.2f}%\")\n",
    "        print(f\"  ➤ Val Dice Score: {avg_dice_score:.4f}\")\n",
    "        print(f\"  ➤ epochs_without_improvement: {epochs_without_improvement}\")\n",
    "        print(f\"  ➤ Learning Rate: {optimizer.param_groups[0]['lr']}\")\n",
    "        \n",
    "# Train model\n",
    "train_model(model, train_loader, val_loader, epochs=32)"
   ]
  }
 ],
 "metadata": {
  "kaggle": {
   "accelerator": "nvidiaTeslaT4",
   "dataSources": [
    {
     "databundleVersionId": 862146,
     "sourceId": 13333,
     "sourceType": "competition"
    }
   ],
   "isGpuEnabled": true,
   "isInternetEnabled": true,
   "language": "python",
   "sourceType": "notebook"
  },
  "kernelspec": {
   "display_name": "Python 3",
   "language": "python",
   "name": "python3"
  },
  "language_info": {
   "codemirror_mode": {
    "name": "ipython",
    "version": 3
   },
   "file_extension": ".py",
   "mimetype": "text/x-python",
   "name": "python",
   "nbconvert_exporter": "python",
   "pygments_lexer": "ipython3",
   "version": "3.10.12"
  },
  "papermill": {
   "default_parameters": {},
   "duration": 6821.618746,
   "end_time": "2025-01-30T19:46:21.939084",
   "environment_variables": {},
   "exception": null,
   "input_path": "__notebook__.ipynb",
   "output_path": "__notebook__.ipynb",
   "parameters": {},
   "start_time": "2025-01-30T17:52:40.320338",
   "version": "2.6.0"
  }
 },
 "nbformat": 4,
 "nbformat_minor": 5
}
